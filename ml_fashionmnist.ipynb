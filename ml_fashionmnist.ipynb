{
 "cells": [
  {
   "cell_type": "markdown",
   "id": "0988ba0a",
   "metadata": {},
   "source": [
    "Evaluate fashion_mnist\n",
    "\n",
    "1.First step: load data and check data,split to train and test\n",
    "\n",
    "2.Second Step: check and do some research on how many common classifiers\n",
    "\n",
    "3.Third Step: work around these candidate algorithms to see the performance "
   ]
  },
  {
   "cell_type": "code",
   "execution_count": 48,
   "id": "95281224",
   "metadata": {},
   "outputs": [],
   "source": [
    "import tensorflow as tf\n",
    "from tensorflow.keras.datasets import fashion_mnist"
   ]
  },
  {
   "cell_type": "code",
   "execution_count": 50,
   "id": "95311abd",
   "metadata": {},
   "outputs": [],
   "source": [
    "((X_train, y_train),(X_test, y_test))= fashion_mnist.load_data()"
   ]
  },
  {
   "cell_type": "code",
   "execution_count": null,
   "id": "9491bd26",
   "metadata": {},
   "outputs": [],
   "source": [
    "#数据处理\n",
    "#since scikit-learn only expects 2d data,we reshape 3d data to 2d data\n",
    "nsample, nx, ny = X_train.shape\n",
    "X_new_train = X_train.reshape(nsample, nx*ny)\n",
    "#对data进行feature Scaling\n",
    "scaler = StandardScaler().fit(X_new_train)\n",
    "X_new = scaler.transform(X_new_train)\n",
    "x1,x2 = X_new_train.shape"
   ]
  },
  {
   "cell_type": "markdown",
   "id": "b5dedbbd",
   "metadata": {},
   "source": [
    "First Starting from very simple Algorithm: Logistic Regression"
   ]
  },
  {
   "cell_type": "code",
   "execution_count": 85,
   "id": "0f9e5c5a",
   "metadata": {
    "scrolled": true
   },
   "outputs": [
    {
     "name": "stdout",
     "output_type": "stream",
     "text": [
      "[[0 0 0 ... 0 0 0]\n",
      " [0 0 0 ... 0 0 0]\n",
      " [0 0 0 ... 0 0 0]\n",
      " ...\n",
      " [0 0 0 ... 0 0 0]\n",
      " [0 0 0 ... 0 0 0]\n",
      " [0 0 0 ... 0 0 0]]\n",
      "[[-0.00864371 -0.02322333 -0.03917806 ... -0.15681128 -0.08967308\n",
      "  -0.03414729]\n",
      " [-0.00864371 -0.02322333 -0.03917806 ... -0.15681128 -0.08967308\n",
      "  -0.03414729]\n",
      " [-0.00864371 -0.02322333 -0.03917806 ... -0.15681128 -0.08967308\n",
      "  -0.03414729]\n",
      " ...\n",
      " [-0.00864371 -0.02322333 -0.03917806 ... -0.15681128 -0.08967308\n",
      "  -0.03414729]\n",
      " [-0.00864371 -0.02322333 -0.03917806 ... -0.15681128 -0.08967308\n",
      "  -0.03414729]\n",
      " [-0.00864371 -0.02322333 -0.03917806 ... -0.15681128 -0.08967308\n",
      "  -0.03414729]]\n"
     ]
    },
    {
     "data": {
      "text/plain": [
       "LogisticRegression(max_iter=10000)"
      ]
     },
     "execution_count": 85,
     "metadata": {},
     "output_type": "execute_result"
    }
   ],
   "source": [
    "from sklearn.linear_model import LogisticRegression\n",
    "from sklearn.preprocessing import StandardScaler\n",
    "log_clf = LogisticRegression(solver = \"lbfgs\", max_iter =10000)\n",
    "log_clf.fit(X_new, y_train)\n"
   ]
  },
  {
   "cell_type": "code",
   "execution_count": null,
   "id": "6c79305b",
   "metadata": {},
   "outputs": [],
   "source": []
  },
  {
   "cell_type": "code",
   "execution_count": 86,
   "id": "68c5f532",
   "metadata": {},
   "outputs": [],
   "source": [
    "nsample, nx, ny = X_train.shape\n",
    "#since scikit-learn only expects 2d data,we reshape 3d data to 2d data\n",
    "X_new_train = X_train.reshape(nsample, nx*ny)\n",
    "ntest, tx, ty = X_test.shape\n",
    "X_new_test = X_test.reshape(ntest,tx*ty)\n"
   ]
  },
  {
   "cell_type": "code",
   "execution_count": 90,
   "id": "001b4516",
   "metadata": {},
   "outputs": [
    {
     "data": {
      "text/plain": [
       "0.725"
      ]
     },
     "execution_count": 90,
     "metadata": {},
     "output_type": "execute_result"
    }
   ],
   "source": [
    "y_pred = log_clf.predict(X_new_test)\n",
    "#通过比较y_pred和y_test来计算准确率\n",
    "from sklearn.metrics import accuracy_score\n",
    "accuracy_score(y_pred,y_test)"
   ]
  },
  {
   "cell_type": "markdown",
   "id": "59e9c10b",
   "metadata": {},
   "source": [
    "Second I will try the K - Nearest Neighbors Classifier"
   ]
  },
  {
   "cell_type": "code",
   "execution_count": 82,
   "id": "6329209f",
   "metadata": {},
   "outputs": [],
   "source": [
    "from sklearn.neighbors import KNeighborsClassifier\n",
    "knn_clf = KNeighborsClassifier(n_neighbors = 8)\n",
    "knn_clf.fit(X_new_train, y_train)\n",
    "y_pred = knn_clf.predict(X_new_test)"
   ]
  },
  {
   "cell_type": "code",
   "execution_count": 84,
   "id": "49a0614c",
   "metadata": {},
   "outputs": [
    {
     "data": {
      "text/plain": [
       "0.8534"
      ]
     },
     "execution_count": 84,
     "metadata": {},
     "output_type": "execute_result"
    }
   ],
   "source": [
    "#通过比较y_pred和y_test来计算准确率\n",
    "from sklearn.metrics import accuracy_score\n",
    "accuracy_score(y_pred,y_test)"
   ]
  },
  {
   "cell_type": "markdown",
   "id": "5eb5833f",
   "metadata": {},
   "source": [
    "3. Decision Tree Classfier"
   ]
  },
  {
   "cell_type": "code",
   "execution_count": 93,
   "id": "238ee416",
   "metadata": {},
   "outputs": [],
   "source": [
    "from sklearn.tree import DecisionTreeClassifier\n",
    "tree_clf = DecisionTreeClassifier(criterion = \"entropy\", splitter = \"best\", max_depth = 10)\n",
    "tree_clf.fit(X_new_train, y_train)\n",
    "y_pred = tree_clf.predict(X_new_test)\n",
    "\n"
   ]
  },
  {
   "cell_type": "code",
   "execution_count": 94,
   "id": "1b269ddb",
   "metadata": {},
   "outputs": [
    {
     "data": {
      "text/plain": [
       "0.8107"
      ]
     },
     "execution_count": 94,
     "metadata": {},
     "output_type": "execute_result"
    }
   ],
   "source": [
    "accuracy_score(y_pred, y_test)"
   ]
  },
  {
   "cell_type": "markdown",
   "id": "9970457f",
   "metadata": {},
   "source": [
    "4.Support Vector Machine支持向量机"
   ]
  },
  {
   "cell_type": "code",
   "execution_count": 95,
   "id": "98c94fb2",
   "metadata": {},
   "outputs": [],
   "source": [
    "from sklearn.svm import SVC\n",
    "svc = SVC(kernel = \"rbf\")\n",
    "svc.fit(X_new_train, y_train)\n",
    "\n"
   ]
  },
  {
   "cell_type": "code",
   "execution_count": 98,
   "id": "612d5edb",
   "metadata": {},
   "outputs": [
    {
     "data": {
      "text/plain": [
       "0.8828"
      ]
     },
     "execution_count": 98,
     "metadata": {},
     "output_type": "execute_result"
    }
   ],
   "source": [
    "y_pred = svc.predict(X_new_test)\n",
    "accuracy_score(y_pred, y_test)"
   ]
  },
  {
   "cell_type": "code",
   "execution_count": 97,
   "id": "7d1cd1e7",
   "metadata": {},
   "outputs": [
    {
     "data": {
      "text/plain": [
       "0.8828"
      ]
     },
     "execution_count": 97,
     "metadata": {},
     "output_type": "execute_result"
    }
   ],
   "source": [
    "accuracy_score(y_pred, y_test)"
   ]
  },
  {
   "cell_type": "code",
   "execution_count": null,
   "id": "a97d8256",
   "metadata": {},
   "outputs": [],
   "source": []
  },
  {
   "cell_type": "code",
   "execution_count": null,
   "id": "e13b0e16",
   "metadata": {},
   "outputs": [],
   "source": []
  },
  {
   "cell_type": "code",
   "execution_count": null,
   "id": "5069299e",
   "metadata": {},
   "outputs": [],
   "source": []
  },
  {
   "cell_type": "code",
   "execution_count": null,
   "id": "af1bd8fa",
   "metadata": {},
   "outputs": [],
   "source": []
  }
 ],
 "metadata": {
  "kernelspec": {
   "display_name": "Python 3",
   "language": "python",
   "name": "python3"
  },
  "language_info": {
   "codemirror_mode": {
    "name": "ipython",
    "version": 3
   },
   "file_extension": ".py",
   "mimetype": "text/x-python",
   "name": "python",
   "nbconvert_exporter": "python",
   "pygments_lexer": "ipython3",
   "version": "3.8.8"
  }
 },
 "nbformat": 4,
 "nbformat_minor": 5
}
